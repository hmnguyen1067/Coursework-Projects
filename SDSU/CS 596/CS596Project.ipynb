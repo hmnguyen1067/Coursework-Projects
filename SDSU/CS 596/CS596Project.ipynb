{
 "cells": [
  {
   "cell_type": "markdown",
   "metadata": {},
   "source": [
    "# Import libraries"
   ]
  },
  {
   "cell_type": "code",
   "execution_count": 1,
   "metadata": {},
   "outputs": [],
   "source": [
    "import random\n",
    "import numpy as np\n",
    "import scipy\n",
    "import matplotlib.pyplot as plt\n",
    "import pandas as pd\n",
    "import sklearn as sk\n",
    "from pandas.plotting import scatter_matrix\n",
    "from sklearn.linear_model import LogisticRegression\n",
    "from sklearn.decomposition import PCA\n",
    "from sklearn.discriminant_analysis import LinearDiscriminantAnalysis\n",
    "from sklearn.neighbors import (KNeighborsClassifier, NeighborhoodComponentsAnalysis)\n",
    "from sklearn.pipeline import make_pipeline\n",
    "from sklearn.pipeline import Pipeline\n",
    "from sklearn.model_selection import GridSearchCV\n",
    "from sklearn.preprocessing import StandardScaler\n",
    "from sklearn.svm import SVC\n",
    "import sklearn.svm as svm\n",
    "import seaborn as sns\n",
    "%matplotlib inline"
   ]
  },
  {
   "cell_type": "markdown",
   "metadata": {},
   "source": [
    "# Function initialization"
   ]
  },
  {
   "cell_type": "code",
   "execution_count": 2,
   "metadata": {},
   "outputs": [],
   "source": [
    "def func_confusion_matrix(y_test, y_pred):\n",
    "    y_test = np.array(y_test)\n",
    "    y_pred = np.array(y_pred)\n",
    "\n",
    "    unique_values = set(y_pred)\n",
    "    sorted(unique_values)\n",
    "    num_classes = len(unique_values)\n",
    "    unique_values = np.array(list(unique_values)) # change to array so can use indexes\n",
    "    possible_string_dict = {}\n",
    "    # make sure all values are 0 based, so can use built-in \"zip\" function\n",
    "    if(issubclass(type(y_test[0]), np.integer)): # if values are integers\n",
    "        y_test_min = y_test.min()\n",
    "        if(y_test_min != 0):# if does not contain 0, reduce both test and pred by min value to get 0 based for both\n",
    "            y_test = y_test - y_test_min\n",
    "            y_pred = y_pred - y_test_min\n",
    "    else:\n",
    "        y_test_int = np.empty(len(y_test), dtype=int)\n",
    "        y_pred_int = np.empty(len(y_pred), dtype=int)\n",
    "        for index in range(0, num_classes):\n",
    "            current_value = unique_values[index]\n",
    "            possible_string_dict[index] = current_value\n",
    "            y_test_int[y_test == current_value] = index\n",
    "            y_pred_int[y_pred == current_value] = index\n",
    "        y_test = y_test_int\n",
    "        y_pred = y_pred_int\n",
    "       \n",
    "    conf_matrix = np.zeros((num_classes, num_classes), dtype=np.int)\n",
    "    for a, p in zip(y_test, y_pred):\n",
    "        conf_matrix[a][p] += 1\n",
    " \n",
    "    accuracy = conf_matrix.diagonal().sum() / conf_matrix.sum()\n",
    "   \n",
    "    recall_array = np.empty(num_classes, dtype=float)\n",
    "    precision_array = np.empty(num_classes, dtype=float)\n",
    "    for index in range(0, num_classes):\n",
    "        value = conf_matrix[index,index]\n",
    "        recall_sum = conf_matrix[index,:].sum()\n",
    "        precision_sum = conf_matrix[:, index].sum()\n",
    "        recall_array[index] = value / recall_sum\n",
    "        precision_array[index] = value / precision_sum\n",
    "       \n",
    "    return conf_matrix, accuracy, recall_array, precision_array"
   ]
  },
  {
   "cell_type": "markdown",
   "metadata": {},
   "source": [
    "# Dataset information"
   ]
  },
  {
   "cell_type": "markdown",
   "metadata": {},
   "source": [
    "Attribute Information: (classes: edible=e, poisonous=p)\n",
    "\n",
    "1. cap-shape:                bell=b, conical=c, convex=x, flat=f,\n",
    "                                  knobbed=k, sunken=s\n",
    "2. cap-surface:              fibrous=f, grooves=g, scaly=y, smooth=s\n",
    "\n",
    "3. cap-color:                brown=n, buff=b, cinnamon=c, gray=g, green=r,\n",
    "                                  pink=p, purple=u, red=e, white=w, yellow=y\n",
    "4. bruises?:                 bruises=t, no=f\n",
    "\n",
    "5. odor:                     almond=a, anise=l, creosote=c, fishy=y, foul=f,\n",
    "                                  musty=m, none=n, pungent=p, spicy=s\n",
    "                                  \n",
    "6. gill-attachment:          attached=a, descending=d, free=f, notched=n\n",
    "    \n",
    "7. gill-spacing:             close=c, crowded=w, distant=d\n",
    "\n",
    "8. gill-size:                broad=b, narrow=n\n",
    "\n",
    "9. gill-color:               black=k, brown=n, buff=b, chocolate=h, gray=g,\n",
    "                                  green=r, orange=o, pink=p, purple=u, red=e,\n",
    "                                  white=w, yellow=y\n",
    "                                  \n",
    "10. stalk-shape:              enlarging=e, tapering=t\n",
    "\n",
    "11. stalk-root:               bulbous=b, club=c, cup=u, equal=e,\n",
    "                                  rhizomorphs=z, rooted=r, missing=?\n",
    "\n",
    "12. stalk-surface-above-ring: fibrous=f, scaly=y, silky=k, smooth=s\n",
    "\n",
    "13. stalk-surface-below-ring: fibrous=f, scaly=y, silky=k, smooth=s\n",
    "\n",
    "14. stalk-color-above-ring:   brown=n, buff=b, cinnamon=c, gray=g, orange=o,\n",
    "                                  pink=p, red=e, white=w, yellow=y\n",
    "    \n",
    "15. stalk-color-below-ring:   brown=n, buff=b, cinnamon=c, gray=g, orange=o,\n",
    "                                  pink=p, red=e, white=w, yellow=y\n",
    "\n",
    "16. veil-type:                partial=p, universal=u\n",
    "\n",
    "17. veil-color:               brown=n, orange=o, white=w, yellow=y\n",
    "\n",
    "18. ring-number:              none=n, one=o, two=t\n",
    "\n",
    "19. ring-type:                cobwebby=c, evanescent=e, flaring=f, large=l,\n",
    "                                  none=n, pendant=p, sheathing=s, zone=z\n",
    "\n",
    "20. spore-print-color:        black=k, brown=n, buff=b, chocolate=h, green=r,\n",
    "                                  orange=o, purple=u, white=w, yellow=y\n",
    "\n",
    "21. population:               abundant=a, clustered=c, numerous=n,\n",
    "                                  scattered=s, several=v, solitary=y\n",
    "\n",
    "22. habitat:                  grasses=g, leaves=l, meadows=m, paths=p,\n",
    "                                  urban=u, waste=w, woods=d\n"
   ]
  },
  {
   "cell_type": "markdown",
   "metadata": {},
   "source": [
    "Disjunctive rules for poisonous mushrooms, from most general\n",
    "\tto most specific:\n",
    "\n",
    "\t1. odor=NOT(almond.OR.anise.OR.none)\n",
    "\t     120 poisonous cases missed, 98.52% accuracy\n",
    "\n",
    "\t2. spore-print-color=green\n",
    "\t     48 cases missed, 99.41% accuracy\n",
    "         \n",
    "\t3. odor=none.AND.stalk-surface-below-ring=scaly.AND.\n",
    "\t          (stalk-color-above-ring=NOT.brown) \n",
    "\t     8 cases missed, 99.90% accuracy\n",
    "         \n",
    "\t4. habitat=leaves.AND.cap-color=white\n",
    "\t         100% accuracy     \n",
    "\n",
    "\tRule 4 may also be\n",
    "\n",
    "\t4. population=clustered.AND.cap_color=white"
   ]
  },
  {
   "cell_type": "markdown",
   "metadata": {},
   "source": [
    "# Retrieving data"
   ]
  },
  {
   "cell_type": "code",
   "execution_count": 3,
   "metadata": {},
   "outputs": [],
   "source": [
    "mushroom_df = pd.read_table(\"mushroomdata.txt\", sep = ',')"
   ]
  },
  {
   "cell_type": "code",
   "execution_count": 4,
   "metadata": {},
   "outputs": [
    {
     "data": {
      "text/plain": [
       "e    4208\n",
       "p    3916\n",
       "Name: Classes, dtype: int64"
      ]
     },
     "execution_count": 4,
     "metadata": {},
     "output_type": "execute_result"
    }
   ],
   "source": [
    "mushroom_df[\"Classes\"].value_counts()"
   ]
  },
  {
   "cell_type": "code",
   "execution_count": 5,
   "metadata": {},
   "outputs": [
    {
     "data": {
      "text/plain": [
       "<matplotlib.axes._subplots.AxesSubplot at 0x1a17568bd0>"
      ]
     },
     "execution_count": 5,
     "metadata": {},
     "output_type": "execute_result"
    },
    {
     "data": {
      "image/png": "[encoded data removed]",
      "text/plain": [
       "<Figure size 432x288 with 1 Axes>"
      ]
     },
     "metadata": {
      "needs_background": "light"
     },
     "output_type": "display_data"
    }
   ],
   "source": [
    "sns.countplot(x = \"Classes\", data = mushroom_df, palette = \"hls\")"
   ]
  },
  {
   "cell_type": "code",
   "execution_count": 6,
   "metadata": {},
   "outputs": [
    {
     "data": {
      "text/plain": [
       "Text(0, 0.5, 'Frequency of mushroom types')"
      ]
     },
     "execution_count": 6,
     "metadata": {},
     "output_type": "execute_result"
    },
    {
     "data": {
      "image/png": "[encoded data removed]",
      "text/plain": [
       "<Figure size 432x288 with 1 Axes>"
      ]
     },
     "metadata": {
      "needs_background": "light"
     },
     "output_type": "display_data"
    }
   ],
   "source": [
    "pd.crosstab(mushroom_df[\"spore-print-color\"],mushroom_df[\"Classes\"]).plot(kind='bar')\n",
    "plt.xlabel('SporeColor')\n",
    "plt.ylabel('Frequency of mushroom types')"
   ]
  },
  {
   "cell_type": "code",
   "execution_count": 7,
   "metadata": {},
   "outputs": [
    {
     "data": {
      "text/plain": [
       "Text(0, 0.5, 'Frequency of mushroom types')"
      ]
     },
     "execution_count": 7,
     "metadata": {},
     "output_type": "execute_result"
    },
    {
     "data": {
      "image/png": "[encoded data removed]",
      "text/plain": [
       "<Figure size 432x288 with 1 Axes>"
      ]
     },
     "metadata": {
      "needs_background": "light"
     },
     "output_type": "display_data"
    }
   ],
   "source": [
    "pd.crosstab(mushroom_df[\"cap-color\"],mushroom_df[\"Classes\"]).plot(kind='bar')\n",
    "plt.xlabel('CapColor')\n",
    "plt.ylabel('Frequency of mushroom types')"
   ]
  },
  {
   "cell_type": "code",
   "execution_count": 8,
   "metadata": {},
   "outputs": [
    {
     "data": {
      "text/plain": [
       "Text(0, 0.5, 'Frequency of mushroom types')"
      ]
     },
     "execution_count": 8,
     "metadata": {},
     "output_type": "execute_result"
    },
    {
     "data": {
      "image/png": "[encoded data removed]",
      "text/plain": [
       "<Figure size 432x288 with 1 Axes>"
      ]
     },
     "metadata": {
      "needs_background": "light"
     },
     "output_type": "display_data"
    }
   ],
   "source": [
    "pd.crosstab(mushroom_df[\"odor\"],mushroom_df[\"Classes\"]).plot(kind='bar')\n",
    "plt.xlabel('Odor')\n",
    "plt.ylabel('Frequency of mushroom types')"
   ]
  },
  {
   "cell_type": "markdown",
   "metadata": {},
   "source": [
    "# Cleaning data\n",
    "### Turining string to numeric datatype"
   ]
  },
  {
   "cell_type": "code",
   "execution_count": 9,
   "metadata": {},
   "outputs": [],
   "source": [
    "dataFeatures = {\"Classes\": [\"p\",\"e\"],\n",
    "            \"cap-shape\": [\"b\",\"c\",\"x\",\"f\",\"k\",\"s\"],\n",
    "            \"cap-surface\": [\"f\",\"g\",\"y\",\"s\"],\n",
    "            \"cap-color\": [\"n\",\"b\",\"c\",\"g\",\"r\",\"p\",\"u\",\"e\",\"w\",\"y\"],\n",
    "            \"bruises\": [\"t\",\"f\"],\n",
    "            \"odor\": [\"a\",\"l\",\"c\",\"y\",\"f\",\"m\",\"n\",\"p\",\"s\"],\n",
    "            \"gill-attachment\": [\"a\",\"d\",\"f\",\"n\"],\n",
    "            \"gill-spacing\": [\"c\",\"w\",\"d\"],\n",
    "            \"gill-size\": [\"b\",\"n\"],\n",
    "            \"gill-color\": [\"k\",\"n\",\"b\",\"h\",\"g\",\"r\",\"o\",\"p\",\"u\",\"e\",\"w\",\"y\"],\n",
    "            \"stalk-shape\": [\"e\",\"t\"],\n",
    "            \"stalk-root\": [\"b\",\"c\",\"u\",\"e\",\"z\",\"r\",\"?\"],\n",
    "            \"stalk-surface-above-ring\": [\"f\",\"y\",\"k\",\"s\"],\n",
    "            \"stalk-surface-below-ring\": [\"f\",\"y\",\"k\",\"s\"],\n",
    "            \"stalk-color-above-ring\": [\"n\",\"b\",\"c\",\"g\",\"o\",\"p\",\"e\",\"w\",\"y\"],\n",
    "            \"stalk-color-below-ring\": [\"n\",\"b\",\"c\",\"g\",\"o\",\"p\",\"e\",\"w\",\"y\"],\n",
    "            \"veil-type\": [\"p\",\"u\"],\n",
    "            \"veil-color\": [\"n\",\"o\",\"w\",\"y\"],\n",
    "            \"ring-number\": [\"n\",\"o\",\"t\"],\n",
    "            \"ring-type\": [\"c\",\"e\",\"f\",\"l\",\"n\",\"p\",\"s\",\"z\"],\n",
    "            \"spore-print-color\": [\"k\",\"n\",\"b\",\"h\",\"r\",\"o\",\"u\",\"w\",\"y\"],\n",
    "            \"population\": [\"a\",\"c\",\"n\",\"s\",\"v\",\"y\"],\n",
    "            \"habitat\": [\"g\",\"l\",\"m\",\"p\",\"u\",\"w\",\"d\"]}\n",
    "\n",
    "dim = 22\n",
    "n_classes = 2\n",
    "n_neighbors = 3\n",
    "random_state = 13\n",
    "\n",
    "for key, val in dataFeatures.items():\n",
    "    zFeature = zip(val, range(len(val)))\n",
    "    for k, v in zFeature:\n",
    "        mushroom_df.loc[mushroom_df[key] == k, key] = v"
   ]
  },
  {
   "cell_type": "markdown",
   "metadata": {},
   "source": [
    "# Splitting for training data, validation data and testing data"
   ]
  },
  {
   "cell_type": "code",
   "execution_count": 10,
   "metadata": {},
   "outputs": [],
   "source": [
    "np.random.seed(13)\n",
    "\n",
    "dataVals = mushroom_df.values\n",
    "X = dataVals[:,1:]\n",
    "Y = dataVals[:,0]\n",
    "n = 8124\n",
    "S = np.random.permutation(n)\n",
    "\n",
    "# Training samples\n",
    "Xtr = dataVals[S[:2*n//3], 1:]\n",
    "Ytr = dataVals[S[:2*n//3], :1]\n",
    "# Testing samples\n",
    "x_test = dataVals[S[2*n//3:], 1:]\n",
    "y_test = dataVals[S[2*n//3:], :1].ravel()\n",
    "\n",
    "n2 = len(Xtr)\n",
    "S2 = np.random.permutation(n2)\n",
    " \n",
    "# subsets for training models\n",
    "x_train= Xtr[S2[:n2//2],:]\n",
    "y_train= Ytr[S2[:n2//2],:].ravel()\n",
    "# subsets for validation\n",
    "x_validation= Xtr[S2[n2//2:],:]\n",
    "y_validation= Ytr[S2[n2//2:],:].ravel()"
   ]
  },
  {
   "cell_type": "markdown",
   "metadata": {},
   "source": [
    "# Logistic regression"
   ]
  },
  {
   "cell_type": "code",
   "execution_count": 11,
   "metadata": {},
   "outputs": [
    {
     "name": "stdout",
     "output_type": "stream",
     "text": [
      "Confusion Matrix: \n",
      "[[1255   47]\n",
      " [  98 1308]]\n",
      "Average Accuracy: 0.9464549483013294\n",
      "Per-Class Precision: [0.92756837 0.96531365]\n",
      "Per-Class Recall: [0.96390169 0.93029872]\n"
     ]
    },
    {
     "name": "stderr",
     "output_type": "stream",
     "text": [
      "/opt/anaconda3/lib/python3.7/site-packages/sklearn/linear_model/logistic.py:432: FutureWarning: Default solver will be changed to 'lbfgs' in 0.22. Specify a solver to silence this warning.\n",
      "  FutureWarning)\n"
     ]
    }
   ],
   "source": [
    "logMod = LogisticRegression()\n",
    "logMod.fit(x_train, y_train)\n",
    "y_pred = logMod.predict(x_test)\n",
    "conf_matrix, accuracy, recall_array, precision_array = func_confusion_matrix(y_test, y_pred)\n",
    "\n",
    "print(\"Confusion Matrix: \")\n",
    "print(conf_matrix)\n",
    "print(\"Average Accuracy: {}\".format(accuracy))\n",
    "print(\"Per-Class Precision: {}\".format(precision_array))\n",
    "print(\"Per-Class Recall: {}\".format(recall_array))"
   ]
  },
  {
   "cell_type": "markdown",
   "metadata": {},
   "source": [
    "# Multinomial Logistic Regression with L1 penalty"
   ]
  },
  {
   "cell_type": "code",
   "execution_count": 12,
   "metadata": {},
   "outputs": [
    {
     "name": "stdout",
     "output_type": "stream",
     "text": [
      "Sparsity with L1 penalty: 4.55%\n",
      "Test score with L1 penalty: 0.9343\n",
      "Confusion Matrix: \n",
      "[[1211   91]\n",
      " [  87 1319]]\n",
      "Average Accuracy: 0.9342688330871491\n",
      "Per-Class Precision: [0.93297381 0.93546099]\n",
      "Per-Class Recall: [0.93010753 0.93812233]\n"
     ]
    }
   ],
   "source": [
    "scaler = StandardScaler()\n",
    "x_trains = scaler.fit_transform(x_train)\n",
    "x_tests = scaler.transform(x_test)\n",
    "clf = LogisticRegression(penalty='l1', solver='saga', tol=0.1)\n",
    "clf.fit(x_train, y_train)\n",
    "sparsity = np.mean(clf.coef_ == 0) * 100\n",
    "score = clf.score(x_test, y_test)\n",
    "print(\"Sparsity with L1 penalty: %.2f%%\" % sparsity)\n",
    "print(\"Test score with L1 penalty: %.4f\" % score)\n",
    "\n",
    "y_pred = clf.predict(x_test)\n",
    "\n",
    "conf_matrix, accuracy, recall_array, precision_array = func_confusion_matrix(y_test, y_pred)\n",
    "\n",
    "print(\"Confusion Matrix: \")\n",
    "print(conf_matrix)\n",
    "print(\"Average Accuracy: {}\".format(accuracy))\n",
    "print(\"Per-Class Precision: {}\".format(precision_array))\n",
    "print(\"Per-Class Recall: {}\".format(recall_array))"
   ]
  },
  {
   "cell_type": "markdown",
   "metadata": {},
   "source": [
    "# K-nearest neighbors"
   ]
  },
  {
   "cell_type": "code",
   "execution_count": 13,
   "metadata": {},
   "outputs": [
    {
     "data": {
      "text/plain": [
       "NeighborhoodComponentsAnalysis(callback=None, init='auto', max_iter=50,\n",
       "                               n_components=None, random_state=13, tol=1e-05,\n",
       "                               verbose=0, warm_start=False)"
      ]
     },
     "execution_count": 13,
     "metadata": {},
     "output_type": "execute_result"
    }
   ],
   "source": [
    "nca = NeighborhoodComponentsAnalysis(random_state=random_state)\n",
    "nca.fit(x_train, y_train)"
   ]
  },
  {
   "cell_type": "code",
   "execution_count": 14,
   "metadata": {},
   "outputs": [
    {
     "data": {
      "image/png": "[encoded data removed]",
      "text/plain": [
       "<Figure size 432x288 with 1 Axes>"
      ]
     },
     "metadata": {
      "needs_background": "light"
     },
     "output_type": "display_data"
    }
   ],
   "source": [
    "# Run k from 1 to 22 to see the testing accuracy\n",
    "k_range = range(2,23)\n",
    "scores = {}\n",
    "scores_list = []\n",
    "for k in k_range:\n",
    "    knn = KNeighborsClassifier(n_neighbors=k)\n",
    "    knn.fit(x_train, y_train)\n",
    "    y_pred = knn.predict(x_test)\n",
    "    score = sk.metrics.accuracy_score(y_test, y_pred)\n",
    "    scores[k] = score\n",
    "    scores_list.append(score)\n",
    "    \n",
    "plt.plot(k_range, scores_list)\n",
    "plt.xlabel(\"Value of K\")\n",
    "plt.ylabel(\"Testing accuracy\")\n",
    "plt.xticks(range(1,23,1));"
   ]
  },
  {
   "cell_type": "code",
   "execution_count": 15,
   "metadata": {},
   "outputs": [
    {
     "data": {
      "image/png": "[encoded data removed]",
      "text/plain": [
       "<Figure size 432x288 with 1 Axes>"
      ]
     },
     "metadata": {
      "needs_background": "light"
     },
     "output_type": "display_data"
    }
   ],
   "source": [
    "# Run k from 1 to 22 to see the testing accuracy for NeighborhoodComponentsAnalysis\n",
    "k_range = range(2,23)\n",
    "scores = {}\n",
    "scores_list = []\n",
    "for k in k_range:\n",
    "    knn = KNeighborsClassifier(n_neighbors=k)\n",
    "    knn.fit(nca.transform(x_train), y_train)\n",
    "    y_pred = knn.predict(nca.transform(x_test))\n",
    "    score = sk.metrics.accuracy_score(y_test, y_pred)\n",
    "    scores[k] = score\n",
    "    scores_list.append(score)\n",
    "    \n",
    "plt.plot(k_range, scores_list)\n",
    "plt.xlabel(\"Value of K\")\n",
    "plt.ylabel(\"Testing accuracy\")\n",
    "plt.xticks(range(1,23,1));"
   ]
  },
  {
   "cell_type": "code",
   "execution_count": 16,
   "metadata": {},
   "outputs": [
    {
     "name": "stdout",
     "output_type": "stream",
     "text": [
      "Confusion Matrix: \n",
      "[[1302    0]\n",
      " [   3 1403]]\n",
      "Average Accuracy: 0.9988921713441654\n",
      "Per-Class Precision: [0.99770115 1.        ]\n",
      "Per-Class Recall: [1.         0.99786629]\n"
     ]
    }
   ],
   "source": [
    "knn = KNeighborsClassifier(n_neighbors=3)\n",
    "knn.fit(x_train, y_train)\n",
    "\n",
    "y_pred = knn.predict(x_test)\n",
    "conf_matrix, accuracy, recall_array, precision_array = func_confusion_matrix(y_test, y_pred)\n",
    "\n",
    "print(\"Confusion Matrix: \")\n",
    "print(conf_matrix)\n",
    "print(\"Average Accuracy: {}\".format(accuracy))\n",
    "print(\"Per-Class Precision: {}\".format(precision_array))\n",
    "print(\"Per-Class Recall: {}\".format(recall_array))"
   ]
  },
  {
   "cell_type": "code",
   "execution_count": 17,
   "metadata": {},
   "outputs": [
    {
     "name": "stdout",
     "output_type": "stream",
     "text": [
      "Confusion Matrix: \n",
      "[[1298    4]\n",
      " [  12 1394]]\n",
      "Average Accuracy: 0.9940915805022157\n",
      "Per-Class Precision: [0.99083969 0.99713877]\n",
      "Per-Class Recall: [0.9969278  0.99146515]\n"
     ]
    }
   ],
   "source": [
    "knn.fit(nca.transform(x_train), y_train)\n",
    "\n",
    "y_pred = knn.predict(x_test)\n",
    "conf_matrix, accuracy, recall_array, precision_array = func_confusion_matrix(y_test, y_pred)\n",
    "\n",
    "print(\"Confusion Matrix: \")\n",
    "print(conf_matrix)\n",
    "print(\"Average Accuracy: {}\".format(accuracy))\n",
    "print(\"Per-Class Precision: {}\".format(precision_array))\n",
    "print(\"Per-Class Recall: {}\".format(recall_array))"
   ]
  },
  {
   "cell_type": "code",
   "execution_count": 18,
   "metadata": {},
   "outputs": [
    {
     "data": {
      "image/png": "[encoded data removed]",
      "text/plain": [
       "<Figure size 432x288 with 1 Axes>"
      ]
     },
     "metadata": {
      "needs_background": "light"
     },
     "output_type": "display_data"
    }
   ],
   "source": [
    "# NCA is an algorithm that uses a technique similar to k-nearest-neighbors to find a space in which \n",
    "# neighborhoods of points sharing the same labels are tighter than points with different labels.\n",
    "# NCA clusters data based on the results of dimensionality reduction on the matrix.\n",
    "#NCA is attractive for classification because it can naturally handle multi-class problems without any increase\n",
    "#in the model size, and does not introduce additional parameters that require fine-tuning by the user.\n",
    "\n",
    "#NCA classification has been shown to work well in practice for data sets of varying size and difficulty. \n",
    "#In contrast to related methods such as Linear Discriminant Analysis, NCA does not make any assumptions about \n",
    "#the class distributions. The nearest neighbor classification can naturally produce highly irregular decision \n",
    "#boundaries.\n",
    "\n",
    "# Reduce dimension to 2 with NeighborhoodComponentAnalysis\n",
    "nca = make_pipeline(StandardScaler(),\n",
    "                    NeighborhoodComponentsAnalysis(n_components=2,\n",
    "                                                   random_state=random_state))\n",
    "\n",
    "knn = KNeighborsClassifier(n_neighbors=n_neighbors)\n",
    "\n",
    "nca.fit(x_train, y_train)\n",
    "knn.fit(nca.transform(x_train), y_train)\n",
    "acc_knn = knn.score(nca.transform(x_test), y_test)\n",
    "X_embedded = nca.transform(X)\n",
    "\n",
    "a = plt.scatter(X_embedded[:, 0], X_embedded[:, 1], c=Y, s=30, cmap='Set1')\n",
    "plt.title(\"{}, KNN (k={})\\nTest accuracy = {:.2f}\".format(\"NCA\", n_neighbors, acc_knn))\n",
    "plt.legend(*a.legend_elements(), loc = \"best\", title=\"Classes\")\n",
    "plt.show()"
   ]
  },
  {
   "cell_type": "markdown",
   "metadata": {},
   "source": [
    "# Support Vector Machine"
   ]
  },
  {
   "cell_type": "code",
   "execution_count": 19,
   "metadata": {},
   "outputs": [
    {
     "data": {
      "image/png": "[encoded data removed]",
      "text/plain": [
       "<Figure size 432x288 with 1 Axes>"
      ]
     },
     "metadata": {
      "needs_background": "light"
     },
     "output_type": "display_data"
    },
    {
     "data": {
      "image/png": "[encoded data removed]",
      "text/plain": [
       "<Figure size 432x288 with 1 Axes>"
      ]
     },
     "metadata": {
      "needs_background": "light"
     },
     "output_type": "display_data"
    }
   ],
   "source": [
    "## step 3 Model selection over validation set\n",
    "# consider the parameters C, kernel types (linear, RBF etc.) and kernel\n",
    "# parameters if applicable. \n",
    "# 3.1 Plot the validation errors while using different values of C ( with other hyperparameters fixed) \n",
    "#  keeping kernel = \"linear\"\n",
    "c_range = [0.5,1,2,3,4,5,6,7,8,9,10]\n",
    "svm_c_error = []\n",
    "for c_value in c_range:\n",
    "    model = svm.SVC(kernel='linear', C=c_value, gamma = 'auto')\n",
    "    model.fit(X=x_train, y=y_train)\n",
    "    error = 1. - model.score(x_validation, y_validation)\n",
    "    svm_c_error.append(error)\n",
    "plt.plot(c_range, svm_c_error)\n",
    "plt.title('Linear SVM')\n",
    "plt.xlabel('c values')\n",
    "plt.ylabel('error')\n",
    "#plt.xticks(c_range)\n",
    "plt.show()\n",
    "# 3.2 Plot the validation errors while using linear, RBF kernel, or Polynomial kernel ( with other hyperparameters fixed) \n",
    "\n",
    "kernel_types = ['linear', 'poly', 'rbf']\n",
    "svm_kernel_error = []\n",
    "for kernel_value in kernel_types:\n",
    "    model = svm.SVC(kernel=kernel_value, gamma = 'auto')\n",
    "    model.fit(X=x_train, y=y_train)\n",
    "    error = 1. - model.score(x_validation, y_validation)\n",
    "    svm_kernel_error.append(error)\n",
    "\n",
    "plt.plot(kernel_types, svm_kernel_error)\n",
    "plt.title('SVM by Kernels')\n",
    "plt.xlabel('Kernel')\n",
    "plt.ylabel('error')\n",
    "plt.xticks(kernel_types)\n",
    "plt.show()"
   ]
  },
  {
   "cell_type": "code",
   "execution_count": 20,
   "metadata": {},
   "outputs": [
    {
     "data": {
      "text/plain": [
       "SVC(C=4, cache_size=200, class_weight=None, coef0=0.0,\n",
       "    decision_function_shape='ovr', degree=3, gamma='auto', kernel='poly',\n",
       "    max_iter=-1, probability=False, random_state=13, shrinking=True, tol=0.001,\n",
       "    verbose=False)"
      ]
     },
     "execution_count": 20,
     "metadata": {},
     "output_type": "execute_result"
    }
   ],
   "source": [
    "## step 4 Select the best model and apply it over the testing subset \n",
    "best_kernel = 'poly'\n",
    "best_c = 4\n",
    "model = svm.SVC(kernel=best_kernel, C=best_c, gamma = 'auto', random_state = random_state)\n",
    "model.fit(X=x_train, y=y_train)"
   ]
  },
  {
   "cell_type": "code",
   "execution_count": 21,
   "metadata": {},
   "outputs": [
    {
     "name": "stdout",
     "output_type": "stream",
     "text": [
      "Confusion Matrix: \n",
      "[[1302    0]\n",
      " [   0 1406]]\n",
      "Average Accuracy: 1.0\n",
      "Per-Class Precision: [1. 1.]\n",
      "Per-Class Recall: [1. 1.]\n"
     ]
    }
   ],
   "source": [
    "## step 5 evaluate your results in terms of accuracy, real, or precision. \n",
    "\n",
    "y_pred = model.predict(x_test)\n",
    "conf_matrix, accuracy, recall_array, precision_array = func_confusion_matrix(y_test, y_pred)\n",
    "\n",
    "print(\"Confusion Matrix: \")\n",
    "print(conf_matrix)\n",
    "print(\"Average Accuracy: {}\".format(accuracy))\n",
    "print(\"Per-Class Precision: {}\".format(precision_array))\n",
    "print(\"Per-Class Recall: {}\".format(recall_array))"
   ]
  }
 ],
 "metadata": {
  "@webio": {
   "lastCommId": null,
   "lastKernelId": null
  },
  "kernelspec": {
   "display_name": "Python 3",
   "language": "python",
   "name": "python3"
  },
  "language_info": {
   "codemirror_mode": {
    "name": "ipython",
    "version": 3
   },
   "file_extension": ".py",
   "mimetype": "text/x-python",
   "name": "python",
   "nbconvert_exporter": "python",
   "pygments_lexer": "ipython3",
   "version": "3.7.4"
  }
 },
 "nbformat": 4,
 "nbformat_minor": 2
}
