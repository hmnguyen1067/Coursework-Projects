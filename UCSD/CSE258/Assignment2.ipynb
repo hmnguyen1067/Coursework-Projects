{
  "cells": [
    {
      "cell_type": "code",
      "execution_count": 1,
      "metadata": {
        "colab": {
          "base_uri": "https://localhost:8080/"
        },
        "id": "bNrglMecMz7c",
        "outputId": "d5705d78-3cf1-4026-8f9f-d92350e6918b"
      },
      "outputs": [
        {
          "name": "stdout",
          "output_type": "stream",
          "text": [
            "Drive already mounted at /content/drive; to attempt to forcibly remount, call drive.mount(\"/content/drive\", force_remount=True).\n",
            "/content/drive/MyDrive/CSE258Assignment2\n"
          ]
        }
      ],
      "source": [
        "!pip install scikit-learn matplotlib numpy pandas xgboost scikit-surprise recommenders fastFM==0.2.9 --quiet\n",
        "\n",
        "from google.colab import drive\n",
        "import numpy as np\n",
        "import matplotlib.pyplot as plt\n",
        "import surprise\n",
        "import pandas as pd\n",
        "from fastFM import als, mcmc, sgd\n",
        "from collections import defaultdict\n",
        "from surprise import Reader, Dataset, SVD, BaselineOnly, KNNBaseline\n",
        "from surprise.accuracy import mse\n",
        "from recommenders.datasets.python_splitters import python_stratified_split\n",
        "from surprise.model_selection import GridSearchCV\n",
        "from sklearn.ensemble import RandomForestRegressor, RandomForestClassifier\n",
        "from xgboost import XGBRegressor, XGBClassifier\n",
        "from sklearn.preprocessing import StandardScaler, OneHotEncoder, OrdinalEncoder\n",
        "from sklearn.compose import ColumnTransformer\n",
        "from sklearn.metrics import mean_squared_error, mean_absolute_error, r2_score, accuracy_score, roc_auc_score, precision_score, classification_report\n",
        "from sklearn.model_selection import GridSearchCV as GridSearchCVSK\n",
        "from sklearn.model_selection import RandomizedSearchCV\n",
        "from sklearn.neighbors import KNeighborsClassifier\n",
        "\n",
        "plt.rcParams['figure.figsize'] = (12, 12)\n",
        "drive.mount(\"/content/drive\")\n",
        "%cd \"/content/drive/MyDrive/CSE258Assignment2\""
      ]
    },
    {
      "cell_type": "markdown",
      "metadata": {
        "id": "Z1Fj0WkNVDIb"
      },
      "source": [
        "# Data"
      ]
    },
    {
      "cell_type": "code",
      "execution_count": 2,
      "metadata": {
        "id": "s3wo91wkc9f9"
      },
      "outputs": [],
      "source": [
        "trainData = pd.read_csv('drugsComTrain_raw.tsv', sep='\\t', header=0)\n",
        "testData = pd.read_csv('drugsComTest_raw.tsv', sep='\\t', header=0)"
      ]
    },
    {
      "cell_type": "code",
      "execution_count": 3,
      "metadata": {
        "id": "LeIHX8-oVQYL"
      },
      "outputs": [],
      "source": [
        "conditionInds = np.where(trainData.condition.value_counts()> 50)[0]\n",
        "conditions = list(trainData.condition.value_counts()[conditionInds].index)\n",
        "conditions = [cond for cond in conditions if cond[-4:] != 'ful.']\n",
        "\n",
        "drugInds = np.where(trainData.drugName.value_counts()> 50)[0]\n",
        "drugs = list(trainData.drugName.value_counts()[drugInds].index)\n",
        "\n",
        "def extract_year(date):\n",
        "    temp = date.split()\n",
        "    return temp[-1]\n",
        "\n",
        "def extract_day(date):\n",
        "    temp = date.split()\n",
        "    return temp[1][:-1]\n",
        "\n",
        "def extract_month(date):\n",
        "    temp = date.split()\n",
        "    return temp[0]\n",
        "\n",
        "def preprocess_data(df):\n",
        "    df.drop(df.columns[0], axis = 1, inplace=True)\n",
        "\n",
        "    # Process review to length of review and drop all text\n",
        "    df['reviewLen'] = df.apply(lambda row: len(row.review), axis = 1)\n",
        "    df.drop('review', axis = 1, inplace=True)\n",
        "\n",
        "    # Process date by splitting it to year, month, day\n",
        "    df['year'] = df.apply(lambda row: extract_year(row.date), axis = 1)\n",
        "    df['day'] = df.apply(lambda row: extract_day(row.date), axis = 1)\n",
        "    df['month'] = df.apply(lambda row: extract_month(row.date), axis = 1)\n",
        "    df.drop('date', axis = 1, inplace=True)\n",
        "\n",
        "    # Process condition to get rid of unwanted values in conditions and drugs\n",
        "    df = df[(df['condition'].isin(conditions)) & (df['drugName'].isin(drugs))]\n",
        "\n",
        "    return df.drop('rating', axis = 1).reset_index(drop=True), df['rating'].values.astype(np.int)"
      ]
    },
    {
      "cell_type": "code",
      "execution_count": 4,
      "metadata": {
        "id": "3ma0L7hZRTpT"
      },
      "outputs": [],
      "source": [
        "x_train, y_train = preprocess_data(trainData)\n",
        "x_test, y_test = preprocess_data(testData)"
      ]
    },
    {
      "cell_type": "markdown",
      "metadata": {
        "id": "HQgJ-04NoKmC"
      },
      "source": [
        "## Exploratory analysis"
      ]
    },
    {
      "cell_type": "code",
      "execution_count": 5,
      "metadata": {
        "id": "-3uXOa0RwhuE"
      },
      "outputs": [],
      "source": [
        "\"\"\"values, counts = np.unique(y_train, return_counts=True)\n",
        "plt.bar(values, counts, tick_label = values, width = 0.5)\n",
        "plt.xlabel(\"Ratings\")\n",
        "plt.ylabel(\"Counts\")\n",
        "plt.savefig('TrainRatings')\n",
        "plt.show()\"\"\";"
      ]
    },
    {
      "cell_type": "code",
      "execution_count": 6,
      "metadata": {
        "collapsed": true,
        "id": "FsQ-0rRE0NsU"
      },
      "outputs": [],
      "source": [
        "\"\"\"values, counts = np.unique(y_test, return_counts=True)\n",
        "plt.bar(values, counts, tick_label = values, width = 0.5)\n",
        "plt.xlabel(\"Ratings\")\n",
        "plt.ylabel(\"Counts\")\n",
        "plt.savefig('TestRatings')\n",
        "plt.show()\"\"\";"
      ]
    },
    {
      "cell_type": "code",
      "execution_count": 7,
      "metadata": {
        "collapsed": true,
        "id": "JBEbzJZl0Npk"
      },
      "outputs": [],
      "source": [
        "\"\"\"values, counts = np.unique(x_train.year, return_counts=True)\n",
        "plt.bar(values, counts, tick_label = values, width = 0.5)\n",
        "plt.xlabel(\"Years\")\n",
        "plt.ylabel(\"Counts\")\n",
        "plt.savefig('TrainYear')\n",
        "plt.show()\"\"\";"
      ]
    },
    {
      "cell_type": "code",
      "execution_count": 8,
      "metadata": {
        "collapsed": true,
        "id": "-SQ3Tkox0NLM"
      },
      "outputs": [],
      "source": [
        "\"\"\"values, counts = np.unique(x_train.month, return_counts=True)\n",
        "plt.bar(values, counts, tick_label = values, width = 0.5)\n",
        "plt.xlabel(\"Months\")\n",
        "plt.ylabel(\"Counts\")\n",
        "plt.savefig('TrainMonth')\n",
        "plt.show()\"\"\";"
      ]
    },
    {
      "cell_type": "code",
      "execution_count": 9,
      "metadata": {
        "id": "1kjSCiaM4e-U"
      },
      "outputs": [],
      "source": [
        "\"\"\"values, counts = np.unique(x_train.day, return_counts=True)\n",
        "valuesSorted = values.astype(np.int).argsort()\n",
        "plt.bar(values[valuesSorted], counts[valuesSorted], tick_label = values[valuesSorted], width = 0.5)\n",
        "plt.xlabel(\"Days\")\n",
        "plt.ylabel(\"Counts\")\n",
        "plt.savefig('TrainDays')\n",
        "plt.show()\"\"\";"
      ]
    },
    {
      "cell_type": "code",
      "execution_count": 10,
      "metadata": {
        "id": "7FlNHDshyihX"
      },
      "outputs": [],
      "source": [
        "\"\"\"top15 = trainData.condition.value_counts()[:15]\n",
        "plt.bar(top15.index, top15.values, tick_label = top15.index, width = 0.5)\n",
        "plt.xlabel(\"Conditions\")\n",
        "plt.xticks(rotation=45)\n",
        "plt.ylabel(\"Counts\")\n",
        "plt.title(\"Top 15 conditions\")\n",
        "plt.savefig('top15conds')\n",
        "plt.show()\"\"\";"
      ]
    },
    {
      "cell_type": "code",
      "execution_count": 11,
      "metadata": {
        "id": "Tr2__h33DPzV"
      },
      "outputs": [],
      "source": [
        "\"\"\"withRatings = x_train[:]\n",
        "withRatings['rating'] = y_train[:]\n",
        "highRatings = withRatings[withRatings['rating']>7].reset_index(drop=True)\n",
        "\n",
        "lowRatings = withRatings[withRatings['rating']<4].reset_index(drop=True)\n",
        "\n",
        "middleRatings = withRatings[(withRatings['rating'] >3) & (withRatings['rating']<8)].reset_index(drop=True)\"\"\";"
      ]
    },
    {
      "cell_type": "code",
      "execution_count": 12,
      "metadata": {
        "id": "OCzwdLBoFVsU"
      },
      "outputs": [],
      "source": [
        "\"\"\"top15 = middleRatings.year.value_counts()\n",
        "plt.bar(top15.index, top15.values, tick_label = top15.index, width = 0.5)\n",
        "plt.xlabel(\"Years\")\n",
        "plt.xticks(rotation=45)\n",
        "plt.ylabel(\"Counts\")\n",
        "plt.title(\"Top years for middle ratings\")\n",
        "plt.savefig('top15yearMiddle')\n",
        "plt.show()\"\"\";"
      ]
    },
    {
      "cell_type": "code",
      "execution_count": 13,
      "metadata": {
        "id": "3mWc0D9RFNgT"
      },
      "outputs": [],
      "source": [
        "\"\"\"top15 = lowRatings.year.value_counts()\n",
        "plt.bar(top15.index, top15.values, tick_label = top15.index, width = 0.5)\n",
        "plt.xlabel(\"Years\")\n",
        "plt.xticks(rotation=45)\n",
        "plt.ylabel(\"Counts\")\n",
        "plt.title(\"Top years for low ratings\")\n",
        "plt.savefig('top15yearLow')\n",
        "plt.show()\"\"\";"
      ]
    },
    {
      "cell_type": "code",
      "execution_count": 14,
      "metadata": {
        "id": "RuawChQBD2db"
      },
      "outputs": [],
      "source": [
        "\"\"\"top15 = highRatings.year.value_counts()\n",
        "plt.bar(top15.index, top15.values, tick_label = top15.index, width = 0.5)\n",
        "plt.xlabel(\"Years\")\n",
        "plt.xticks(rotation=45)\n",
        "plt.ylabel(\"Counts\")\n",
        "plt.title(\"Top years for high ratings\")\n",
        "plt.savefig('top15yearHigh')\n",
        "plt.show()\"\"\";"
      ]
    },
    {
      "cell_type": "markdown",
      "metadata": {
        "id": "BFWdjyDLkOs2"
      },
      "source": [
        "## Feature importance"
      ]
    },
    {
      "cell_type": "code",
      "execution_count": 15,
      "metadata": {
        "id": "jHuimyAikXZ-"
      },
      "outputs": [],
      "source": [
        "numAttr = ['usefulCount', 'reviewLen']\n",
        "catAttr = ['drugName', 'condition', 'year', 'month']\n",
        "\n",
        "transformer = ColumnTransformer([\n",
        "                              ('num', StandardScaler(), numAttr),\n",
        "                              ('day', OrdinalEncoder(), ['day']),\n",
        "                              ('cat', OneHotEncoder(handle_unknown='ignore'), catAttr)\n",
        "])\n",
        "\n",
        "x_train_prepared = transformer.fit_transform(x_train)\n",
        "x_test_prepared = transformer.transform(x_test)\n",
        "\n",
        "trainPreparedFeatureNames = np.array(numAttr + ['day'] + list(transformer.named_transformers_['cat'].get_feature_names(catAttr)))\n",
        "y_ticks = np.arange(0, len(trainPreparedFeatureNames))"
      ]
    },
    {
      "cell_type": "code",
      "execution_count": 16,
      "metadata": {
        "id": "zVnX5EHT2j6j"
      },
      "outputs": [],
      "source": [
        "def get_fea_imp(model, title = \"\", outImp = \"\"):\n",
        "    model.fit(x_train_prepared, y_train)\n",
        "    modImp = model.feature_importances_\n",
        "    modelSortedInd = modImp.argsort()\n",
        "\n",
        "    fig, ax = plt.subplots(figsize=(12,12))\n",
        "    ax.barh(y_ticks[-20:], modImp[modelSortedInd][-20:])\n",
        "    ax.set_yticklabels(trainPreparedFeatureNames[modelSortedInd][-20:])\n",
        "    ax.set_yticks(y_ticks[-20:])\n",
        "    ax.set_title(title)\n",
        "    fig.tight_layout()\n",
        "    fig.savefig(outImp)\n",
        "\n",
        "    plt.show()"
      ]
    },
    {
      "cell_type": "markdown",
      "metadata": {
        "id": "_RSDUi4mhLXd"
      },
      "source": [
        "### Random forest regression feature importance"
      ]
    },
    {
      "cell_type": "code",
      "execution_count": 17,
      "metadata": {
        "collapsed": true,
        "id": "7kqt6RlUhOJ7"
      },
      "outputs": [],
      "source": [
        "\"\"\"rfReg = RandomForestRegressor(n_jobs=-1, random_state=42)\n",
        "get_fea_imp(rfReg, \"Random Forest Regressor Feature Importance\", 'rfRegFeaImp.png')\"\"\";"
      ]
    },
    {
      "cell_type": "markdown",
      "metadata": {
        "id": "1N6SoJWuhOmc"
      },
      "source": [
        "### Random forest classification feature importance"
      ]
    },
    {
      "cell_type": "code",
      "execution_count": 18,
      "metadata": {
        "collapsed": true,
        "id": "6IqmSV2mhRIg"
      },
      "outputs": [],
      "source": [
        "\"\"\"rfClf = RandomForestClassifier(n_jobs=-1, random_state=42)\n",
        "get_fea_imp(rfClf, \"Random Forest Classifier Feature Importance\", 'rfClfFeaImp.png')\"\"\";"
      ]
    },
    {
      "cell_type": "markdown",
      "metadata": {
        "id": "oIgNP30yhRck"
      },
      "source": [
        "### XGBoost regression feature importance"
      ]
    },
    {
      "cell_type": "code",
      "execution_count": 19,
      "metadata": {
        "id": "VLolLrbvhjGs"
      },
      "outputs": [],
      "source": [
        "\"\"\"xgbReg = XGBRegressor()\n",
        "get_fea_imp(xgbReg, \"XGB Regressor Feature Importance\", 'xgbRegFeaImp.png')\"\"\";"
      ]
    },
    {
      "cell_type": "markdown",
      "metadata": {
        "id": "BJ97--WuhjiN"
      },
      "source": [
        "### XGBoost classification feature importance"
      ]
    },
    {
      "cell_type": "code",
      "execution_count": 20,
      "metadata": {
        "id": "IkAXaAsphlkY"
      },
      "outputs": [],
      "source": [
        "\"\"\"xgbClf = XGBClassifier()\n",
        "get_fea_imp(xgbClf, \"XGB Classifier Feature Importance\", 'xgbClfFeaImp.png')\"\"\";"
      ]
    },
    {
      "cell_type": "markdown",
      "metadata": {
        "id": "MeGrv19e6qjX"
      },
      "source": [
        "# Surprise model"
      ]
    },
    {
      "cell_type": "markdown",
      "metadata": {
        "id": "RtMkY2gY6yrI"
      },
      "source": [
        "## Data"
      ]
    },
    {
      "cell_type": "code",
      "execution_count": 21,
      "metadata": {
        "colab": {
          "base_uri": "https://localhost:8080/"
        },
        "id": "QXJael9H64aX",
        "outputId": "ae3351dc-f5e6-44ac-dd51-054207508ae3"
      },
      "outputs": [
        {
          "name": "stderr",
          "output_type": "stream",
          "text": [
            "/usr/local/lib/python3.7/dist-packages/ipykernel_launcher.py:2: SettingWithCopyWarning: \n",
            "A value is trying to be set on a copy of a slice from a DataFrame.\n",
            "Try using .loc[row_indexer,col_indexer] = value instead\n",
            "\n",
            "See the caveats in the documentation: https://pandas.pydata.org/pandas-docs/stable/user_guide/indexing.html#returning-a-view-versus-a-copy\n",
            "  \n"
          ]
        }
      ],
      "source": [
        "dfTrVal = x_train[[\"condition\", \"drugName\"]] \n",
        "dfTrVal['rating'] = y_train\n",
        "\n",
        "dfTr, dfVal = python_stratified_split(\n",
        "    dfTrVal,\n",
        "    ratio=0.8, \n",
        "    min_rating=1, \n",
        "    filter_by=\"user\", \n",
        "    col_user='condition', \n",
        "    col_item='drugName'\n",
        ")"
      ]
    },
    {
      "cell_type": "code",
      "execution_count": 22,
      "metadata": {
        "id": "V5FbvHOb8m3n"
      },
      "outputs": [],
      "source": [
        "reader = Reader(rating_scale=(1, 10))\n",
        "data = Dataset.load_from_df(dfTrVal[['condition', 'drugName', 'rating']], reader)\n",
        "trainset = data.build_full_trainset()\n",
        "\n",
        "dataVal = Dataset.load_from_df(dfVal[['condition', 'drugName', 'rating']], reader)"
      ]
    },
    {
      "cell_type": "markdown",
      "metadata": {
        "id": "xNV8ywuY6zt_"
      },
      "source": [
        "## SVD"
      ]
    },
    {
      "cell_type": "code",
      "execution_count": 23,
      "metadata": {
        "id": "6lZrLFVJ8mxR"
      },
      "outputs": [],
      "source": [
        "\"\"\"parameters = {\n",
        "    \"n_factors\": [5, 10, 15, 20],\n",
        "    \"n_epochs\": [10, 15, 20, 30],\n",
        "    \"lr_all\": [0.001, 0.005, 0.007, 0.01],\n",
        "    \"reg_all\": [0.005, 0.01, 0.02, 0.04, 0.08]\n",
        "}\n",
        "\n",
        "gridSVD = GridSearchCV(SVD, param_grid=parameters, n_jobs=-1, refit=True, cv=4, measures=[\"rmse\"], joblib_verbose=4)\n",
        "\n",
        "gridSVD.fit(dataVal)\n",
        "\n",
        "trainPara = gridSVD.best_params['mse']\n",
        "trainPara\"\"\";"
      ]
    },
    {
      "cell_type": "code",
      "execution_count": 24,
      "metadata": {
        "colab": {
          "base_uri": "https://localhost:8080/"
        },
        "id": "DrlWLHCr-OZn",
        "outputId": "b85e6e69-e018-4db3-b1bf-2ced35246238"
      },
      "outputs": [
        {
          "data": {
            "text/plain": [
              "<surprise.prediction_algorithms.matrix_factorization.SVD at 0x7f1f4b0ebf90>"
            ]
          },
          "execution_count": 24,
          "metadata": {},
          "output_type": "execute_result"
        }
      ],
      "source": [
        "trainPara = {'lr_all': 0.005, 'n_epochs': 10, 'n_factors': 5, 'reg_all': 0.08}\n",
        "\n",
        "algoSVD = SVD(n_factors = trainPara['n_factors'], n_epochs = trainPara['n_epochs'],\n",
        "                 lr_all = trainPara['lr_all'], reg_all = trainPara['reg_all'])\n",
        "\n",
        "algoSVD.fit(trainset)"
      ]
    },
    {
      "cell_type": "code",
      "execution_count": 25,
      "metadata": {
        "id": "jjn23IjSNyPT"
      },
      "outputs": [],
      "source": [
        "predSVD = []\n",
        "for cond, drug in list(zip(x_test.condition, x_test.drugName)):\n",
        "    temp = algoSVD.predict(cond, drug)\n",
        "    predSVD.append(temp.est)"
      ]
    },
    {
      "cell_type": "markdown",
      "metadata": {
        "id": "zSmNTkKl60_f"
      },
      "source": [
        "## BaselineOnly"
      ]
    },
    {
      "cell_type": "markdown",
      "metadata": {
        "id": "HOXZ7bkzJwwK"
      },
      "source": [
        "### ALS"
      ]
    },
    {
      "cell_type": "code",
      "execution_count": 26,
      "metadata": {
        "id": "5wJZV95h6vV7"
      },
      "outputs": [],
      "source": [
        "\"\"\"param_grid = {'verbose': [False],\n",
        "    'bsl_options': {'method': ['als'],\n",
        "                    'reg_i': [5, 10, 15, 20],\n",
        "                    'reg_u': [10, 15, 20, 30],\n",
        "                    'n_epochs': [10, 15, 20, 30]}\n",
        "              }\n",
        "\n",
        "\n",
        "gridALS = GridSearchCV(BaselineOnly, param_grid=param_grid, n_jobs=-1, refit=True, cv=4, measures=[\"rmse\"], joblib_verbose=4)\n",
        "\n",
        "gridALS.fit(dataVal)\n",
        "\n",
        "trainPara = gridALS.best_params['mse']\n",
        "trainPara\"\"\";"
      ]
    },
    {
      "cell_type": "code",
      "execution_count": 27,
      "metadata": {
        "colab": {
          "base_uri": "https://localhost:8080/"
        },
        "id": "3wMdj6nGLB9z",
        "outputId": "2de2092f-6b66-4d1d-9baa-d942c6702e58"
      },
      "outputs": [
        {
          "name": "stdout",
          "output_type": "stream",
          "text": [
            "Estimating biases using als...\n"
          ]
        }
      ],
      "source": [
        "trainPara = {'bsl_options': {'method': 'als', 'n_epochs': 15, 'reg_i': 10, 'reg_u': 20},\n",
        " 'verbose': False}\n",
        "\n",
        "algoALS = BaselineOnly(bsl_options = trainPara['bsl_options'])\n",
        "\n",
        "algoALS.fit(trainset)\n",
        "\n",
        "predALS = []\n",
        "for cond, drug in list(zip(x_test.condition, x_test.drugName)):\n",
        "    temp = algoALS.predict(cond, drug)\n",
        "    predALS.append(temp.est)"
      ]
    },
    {
      "cell_type": "markdown",
      "metadata": {
        "id": "5-PBlL_RJyC6"
      },
      "source": [
        "### SGD"
      ]
    },
    {
      "cell_type": "code",
      "execution_count": 28,
      "metadata": {
        "id": "hOSFzLGTJyr3"
      },
      "outputs": [],
      "source": [
        "\"\"\"param_grid = {'verbose': [False],\n",
        "    'bsl_options': {'method': ['sgd'],\n",
        "                    'reg': [0.005, 0.01, 0.02, 0.05, 0.1],\n",
        "                    'learning_rate': [0.001, 0.005, 0.007, 0.01],\n",
        "                    'n_epochs': [10, 15, 20, 30]\n",
        "                    }\n",
        "              }\n",
        "\n",
        "gridSGD = GridSearchCV(BaselineOnly, param_grid=param_grid, n_jobs=-1, refit=True, cv=4, measures=[\"rmse\"])\n",
        "\n",
        "gridSGD.fit(dataVal)\n",
        "\n",
        "trainPara = gridSGD.best_params['mse']\n",
        "trainPara\"\"\";"
      ]
    },
    {
      "cell_type": "code",
      "execution_count": 29,
      "metadata": {
        "colab": {
          "base_uri": "https://localhost:8080/"
        },
        "id": "u063GCKxLCpC",
        "outputId": "91fd3cab-d782-45a9-ff23-50623a2bcee4"
      },
      "outputs": [
        {
          "name": "stdout",
          "output_type": "stream",
          "text": [
            "Estimating biases using sgd...\n"
          ]
        }
      ],
      "source": [
        "trainPara = {'bsl_options': {'learning_rate': 0.005,\n",
        "  'method': 'sgd',\n",
        "  'n_epochs': 15,\n",
        "  'reg': 0.1},\n",
        " 'verbose': False}\n",
        "\n",
        "algoSGD = BaselineOnly(bsl_options = trainPara['bsl_options'])\n",
        "\n",
        "algoSGD.fit(trainset)\n",
        "\n",
        "predSGD = []\n",
        "for cond, drug in list(zip(x_test.condition, x_test.drugName)):\n",
        "    temp = algoSGD.predict(cond, drug)\n",
        "    predSGD.append(temp.est)"
      ]
    },
    {
      "cell_type": "markdown",
      "metadata": {
        "id": "AZETgqsvWtmb"
      },
      "source": [
        "## KNN"
      ]
    },
    {
      "cell_type": "code",
      "execution_count": 30,
      "metadata": {
        "id": "Ba4oNS_8Wwic"
      },
      "outputs": [],
      "source": [
        "\"\"\"param_grid = {'k': [40, 50, 200, 500, 1000, 1500],\n",
        "              'verbose': [False],\n",
        "              'sim_options': {'name': ['pearson_baseline']},\n",
        "              'bsl_options': {'method': ['sgd'],\n",
        "                            'learning_rate': [0.001, 0.002, 0.005, 0.007, 0.01],\n",
        "                            'n_epochs': [10, 15, 20, 30, 50],\n",
        "                            'reg': [0.01, 0.02, 0.05, 0.07, 0.1]}\n",
        "              }\n",
        "\n",
        "gridKNN = GridSearchCV(KNNBaseline, param_grid, measures=['rmse'], cv=4)\n",
        "\n",
        "gridKNN.fit(dataVal)\n",
        "\n",
        "trainPara = gridKNN.best_params['rmse']\n",
        "trainPara\"\"\";"
      ]
    },
    {
      "cell_type": "code",
      "execution_count": 31,
      "metadata": {
        "colab": {
          "base_uri": "https://localhost:8080/"
        },
        "id": "eMy9MnfCXZGE",
        "outputId": "b20164f9-3b9a-4041-ff20-b2375b04e219"
      },
      "outputs": [
        {
          "name": "stdout",
          "output_type": "stream",
          "text": [
            "Estimating biases using sgd...\n",
            "Computing the msd similarity matrix...\n",
            "Done computing similarity matrix.\n"
          ]
        }
      ],
      "source": [
        "trainPara = {'bsl_options': {'learning_rate': 0.001,\n",
        "  'method': 'sgd',\n",
        "  'n_epochs': 10,\n",
        "  'reg': 0.1},\n",
        " 'k': 1000,\n",
        " 'sim_options': {'name': 'pearson_baseline', 'user_based': True},\n",
        " 'verbose': False}\n",
        "\n",
        "algoKNN = KNNBaseline(k = trainPara['k'], bsl_options = trainPara['bsl_options'])\n",
        "\n",
        "algoKNN.fit(trainset)\n",
        "\n",
        "predKNN = []\n",
        "for cond, drug in list(zip(x_test.condition, x_test.drugName)):\n",
        "    temp = algoKNN.predict(cond, drug)\n",
        "    predKNN.append(temp.est)"
      ]
    },
    {
      "cell_type": "markdown",
      "metadata": {
        "id": "n0H3h2k3jls-"
      },
      "source": [
        "### Scores (RMSE, MAE, R2)"
      ]
    },
    {
      "cell_type": "code",
      "execution_count": 32,
      "metadata": {
        "id": "ZsWhPRPcM8bz"
      },
      "outputs": [],
      "source": [
        "def return_score(truth, pred):\n",
        "    return mean_squared_error(truth, pred, squared = False), mean_absolute_error(truth, pred), r2_score(truth, pred)"
      ]
    },
    {
      "cell_type": "code",
      "execution_count": 33,
      "metadata": {
        "colab": {
          "base_uri": "https://localhost:8080/"
        },
        "id": "prJT3XzNNLFC",
        "outputId": "3cc0f35c-4eed-4677-9787-d4c7d04e67f0"
      },
      "outputs": [
        {
          "data": {
            "text/plain": [
              "(3.0691742064413994, 2.5473226325264764, 0.12876051629344842)"
            ]
          },
          "execution_count": 33,
          "metadata": {},
          "output_type": "execute_result"
        }
      ],
      "source": [
        "return_score(y_test, predSVD)"
      ]
    },
    {
      "cell_type": "code",
      "execution_count": 34,
      "metadata": {
        "colab": {
          "base_uri": "https://localhost:8080/"
        },
        "id": "YKvvZNVFNLPT",
        "outputId": "c254b0cb-cc94-4284-fc69-6bbe1d60ec4c"
      },
      "outputs": [
        {
          "data": {
            "text/plain": [
              "(3.066862984458325, 2.554696872329258, 0.1300721848642723)"
            ]
          },
          "execution_count": 34,
          "metadata": {},
          "output_type": "execute_result"
        }
      ],
      "source": [
        "return_score(y_test, predALS)"
      ]
    },
    {
      "cell_type": "code",
      "execution_count": 35,
      "metadata": {
        "colab": {
          "base_uri": "https://localhost:8080/"
        },
        "id": "W2NBPoQbMg7z",
        "outputId": "8153c756-9307-41a2-8ec2-80daea98882f"
      },
      "outputs": [
        {
          "data": {
            "text/plain": [
              "(3.074845209645341, 2.5595736594399483, 0.12553791229435307)"
            ]
          },
          "execution_count": 35,
          "metadata": {},
          "output_type": "execute_result"
        }
      ],
      "source": [
        "return_score(y_test, predSGD)"
      ]
    },
    {
      "cell_type": "code",
      "execution_count": 36,
      "metadata": {
        "colab": {
          "base_uri": "https://localhost:8080/"
        },
        "id": "hycipLG8MbnW",
        "outputId": "d0dbc2ba-6961-466e-a66f-52bdd59c42f6"
      },
      "outputs": [
        {
          "data": {
            "text/plain": [
              "(3.064171334831537, 2.5422723068189663, 0.13159850890125224)"
            ]
          },
          "execution_count": 36,
          "metadata": {},
          "output_type": "execute_result"
        }
      ],
      "source": [
        "return_score(y_test, predKNN)"
      ]
    },
    {
      "cell_type": "markdown",
      "metadata": {
        "id": "OobZCDJea8nm"
      },
      "source": [
        "# Classification models"
      ]
    },
    {
      "cell_type": "markdown",
      "metadata": {
        "id": "DDNcz45iTfG0"
      },
      "source": [
        "## KNN"
      ]
    },
    {
      "cell_type": "code",
      "execution_count": 37,
      "metadata": {
        "id": "-ppdMQxyaZ3F"
      },
      "outputs": [],
      "source": [
        "\"\"\"knnParam = {\n",
        "    'n_neighbors': range(5, 141, 15),\n",
        "    'weights': ['uniform', 'distance'],\n",
        "    'n_jobs': [-1]\n",
        "}\n",
        "\n",
        "knnClf = KNeighborsClassifier()\n",
        "\n",
        "gridsKNN = GridSearchCVSK(KNeighborsClassifier(), knnParam, cv = 4, scoring = 'accuracy', verbose = 2)\n",
        "gridsKNN.fit(x_train_prepared, y_train)\n",
        "gridsKNN.best_params_\n",
        "\"\"\";"
      ]
    },
    {
      "cell_type": "code",
      "execution_count": 38,
      "metadata": {
        "id": "OUk-8eqBVLwX"
      },
      "outputs": [],
      "source": [
        "trainPara = {'n_jobs': -1, 'n_neighbors': 5, 'weights': 'distance'}\n",
        "knnClf = KNeighborsClassifier(n_neighbors= trainPara['n_neighbors'], weights= trainPara['weights'], n_jobs = -1)\n",
        "knnClf.fit(x_train_prepared, y_train)\n",
        "predKNNClf = knnClf.predict(x_test_prepared)"
      ]
    },
    {
      "cell_type": "code",
      "execution_count": 39,
      "metadata": {
        "id": "IA-FWzrmXXNY"
      },
      "outputs": [],
      "source": [
        "def return_clf_score(truth, pred):\n",
        "    print('The accuracy is: ', accuracy_score(truth, pred))\n",
        "    print()\n",
        "    print(classification_report(truth, pred))"
      ]
    },
    {
      "cell_type": "code",
      "execution_count": 40,
      "metadata": {
        "colab": {
          "base_uri": "https://localhost:8080/"
        },
        "id": "0EX4ViR8VLtW",
        "outputId": "b94b268a-6922-4425-f098-0944f8e5e08b"
      },
      "outputs": [
        {
          "name": "stdout",
          "output_type": "stream",
          "text": [
            "The accuracy is:  0.3591380325048667\n",
            "\n",
            "              precision    recall  f1-score   support\n",
            "\n",
            "           1       0.37      0.41      0.39      6048\n",
            "           2       0.20      0.16      0.17      1977\n",
            "           3       0.20      0.15      0.17      1883\n",
            "           4       0.16      0.12      0.13      1415\n",
            "           5       0.21      0.16      0.18      2280\n",
            "           6       0.19      0.13      0.16      1779\n",
            "           7       0.20      0.15      0.17      2600\n",
            "           8       0.27      0.24      0.26      5102\n",
            "           9       0.34      0.33      0.34      7587\n",
            "          10       0.48      0.58      0.52     13507\n",
            "\n",
            "    accuracy                           0.36     44178\n",
            "   macro avg       0.26      0.24      0.25     44178\n",
            "weighted avg       0.34      0.36      0.35     44178\n",
            "\n"
          ]
        }
      ],
      "source": [
        "return_clf_score(y_test, predKNNClf)"
      ]
    },
    {
      "cell_type": "markdown",
      "metadata": {
        "id": "23Vz5H5shU6N"
      },
      "source": [
        "## XGBoost"
      ]
    },
    {
      "cell_type": "code",
      "execution_count": 41,
      "metadata": {
        "id": "DmDqLM1uX5t7"
      },
      "outputs": [],
      "source": [
        "\"\"\"xgbParam = {\n",
        "        'min_child_weight': [1, 5],\n",
        "        'subsample': [0.6, 0.8, 1.0],\n",
        "        'n_estimators': [100, 500, 1000],\n",
        "        'max_depth': [3, 4, 5, 6, 7, 8],\n",
        "        'eta': [0.1, 0.2, 0.3]\n",
        "        }\n",
        "\n",
        "xgbClf = XGBClassifier()\n",
        "\n",
        "gridsXGB = RandomizedSearchCV(xgbClf, xgbParam, cv = 4, scoring = 'accuracy', verbose = 2, random_state=42)\n",
        "gridsXGB.fit(x_train_prepared, y_train)\n",
        "gridsXGB.best_params_\"\"\";"
      ]
    },
    {
      "cell_type": "code",
      "execution_count": 42,
      "metadata": {
        "id": "RcY27GC_je-s"
      },
      "outputs": [],
      "source": [
        "trainPara = {\n",
        "        'n_jobs': -1, \n",
        "        'min_child_weight': 1,\n",
        "        'subsample': 0.8,\n",
        "        'n_estimators': 500,\n",
        "        'max_depth': 7,\n",
        "        'eta': 0.1\n",
        "        }\n",
        "\n",
        "xgbClf = XGBClassifier(min_child_weight = trainPara['min_child_weight'], n_jobs = -1, subsample= trainPara['subsample'],\n",
        "                       n_estimators = trainPara['n_estimators'], max_depth = trainPara['max_depth'], eta = trainPara['eta'])\n",
        "xgbClf.fit(x_train_prepared, y_train)\n",
        "predXGBClf = xgbClf.predict(x_test_prepared)"
      ]
    },
    {
      "cell_type": "code",
      "execution_count": 43,
      "metadata": {
        "colab": {
          "base_uri": "https://localhost:8080/"
        },
        "id": "RsdZ4d359EaW",
        "outputId": "fcb2e6af-9327-439f-947a-7ec0bae107bd"
      },
      "outputs": [
        {
          "name": "stdout",
          "output_type": "stream",
          "text": [
            "The accuracy is:  0.35925121101000496\n",
            "\n",
            "              precision    recall  f1-score   support\n",
            "\n",
            "           1       0.32      0.55      0.41      6048\n",
            "           2       0.23      0.01      0.03      1977\n",
            "           3       0.25      0.02      0.04      1883\n",
            "           4       0.23      0.01      0.03      1415\n",
            "           5       0.21      0.03      0.05      2280\n",
            "           6       0.30      0.03      0.05      1779\n",
            "           7       0.23      0.03      0.05      2600\n",
            "           8       0.23      0.07      0.11      5102\n",
            "           9       0.25      0.15      0.19      7587\n",
            "          10       0.40      0.80      0.54     13507\n",
            "\n",
            "    accuracy                           0.36     44178\n",
            "   macro avg       0.27      0.17      0.15     44178\n",
            "weighted avg       0.30      0.36      0.27     44178\n",
            "\n"
          ]
        }
      ],
      "source": [
        "return_clf_score(y_test, predXGBClf)"
      ]
    },
    {
      "cell_type": "markdown",
      "metadata": {
        "id": "aualDY4ty-Fw"
      },
      "source": [
        "# Classification model for low, medium, high"
      ]
    },
    {
      "cell_type": "markdown",
      "metadata": {
        "id": "XRlxO5i3zFvO"
      },
      "source": [
        "## Data"
      ]
    },
    {
      "cell_type": "code",
      "execution_count": 44,
      "metadata": {
        "id": "_OLpGfIozgmY"
      },
      "outputs": [],
      "source": [
        "pd.options.mode.chained_assignment = None\n",
        "\n",
        "withRatingsTr = x_train[['drugName', 'condition', 'usefulCount']]\n",
        "withRatingsTr['rating'] = y_train\n",
        "withRatingsT = x_test[['drugName', 'condition', 'usefulCount']]\n",
        "withRatingsT['rating'] = y_test"
      ]
    },
    {
      "cell_type": "code",
      "execution_count": 45,
      "metadata": {
        "id": "FzkKXWzUzzyY"
      },
      "outputs": [],
      "source": [
        "withRatingsTr.loc[withRatingsTr['rating'] <4, 'rating'] = -1\n",
        "withRatingsTr.loc[(withRatingsTr['rating'] >=4) & (withRatingsTr['rating'] <=7), 'rating'] = 0\n",
        "withRatingsTr.loc[withRatingsTr['rating'] >7, 'rating'] = 1\n",
        "\n",
        "withRatingsT.loc[withRatingsT['rating'] <4, 'rating'] = -1\n",
        "withRatingsT.loc[(withRatingsT['rating'] >=4) & (withRatingsT['rating'] <=7), 'rating'] = 0\n",
        "withRatingsT.loc[withRatingsT['rating'] >7, 'rating'] = 1"
      ]
    },
    {
      "cell_type": "code",
      "execution_count": 46,
      "metadata": {
        "id": "N-JG-dnvzztt"
      },
      "outputs": [],
      "source": [
        "catAttrClf = ['drugName', 'condition']\n",
        "\n",
        "transformerClf = ColumnTransformer([\n",
        "                              ('num', StandardScaler(), ['usefulCount']),\n",
        "                              ('cat', OneHotEncoder(handle_unknown='ignore'), catAttrClf)\n",
        "])\n",
        "\n",
        "xClf_train, yClf_train = withRatingsTr.drop('rating', axis = 1), withRatingsTr['rating'].values.astype(np.int)\n",
        "xClf_test, yClf_test = withRatingsT.drop('rating', axis = 1), withRatingsT['rating'].values.astype(np.int)\n",
        "\n",
        "xClf_train_prepared = transformerClf.fit_transform(xClf_train)\n",
        "xClf_test_prepared = transformerClf.transform(xClf_test)"
      ]
    },
    {
      "cell_type": "markdown",
      "metadata": {
        "id": "0Gi93y4NzDAv"
      },
      "source": [
        "## KNN"
      ]
    },
    {
      "cell_type": "code",
      "execution_count": 48,
      "metadata": {
        "id": "qdk87x_FzCNl"
      },
      "outputs": [],
      "source": [
        "\"\"\"knnParam2 = {\n",
        "    'n_neighbors': range(5, 30, 4),\n",
        "    'weights': ['uniform', 'distance'],\n",
        "    'n_jobs': [-1]\n",
        "}\n",
        "\n",
        "knnClf2 = KNeighborsClassifier()\n",
        "\n",
        "gridsKNN2 = GridSearchCVSK(knnClf2, knnParam2, cv = 4, scoring = 'accuracy', verbose = 2)\n",
        "gridsKNN2.fit(xClf_train_prepared, yClf_train)\n",
        "gridsKNN2.best_params_\"\"\";"
      ]
    },
    {
      "cell_type": "code",
      "execution_count": 49,
      "metadata": {
        "id": "jik086X32duc"
      },
      "outputs": [],
      "source": [
        "trainPara = {'n_jobs': -1, 'n_neighbors': 29, 'weights': 'uniform'}\n",
        "knnClf2 = KNeighborsClassifier(n_neighbors= trainPara['n_neighbors'], weights= trainPara['weights'], n_jobs = -1)\n",
        "knnClf2.fit(xClf_train_prepared, yClf_train)\n",
        "predKNNClf2 = knnClf2.predict(xClf_test_prepared)"
      ]
    },
    {
      "cell_type": "code",
      "execution_count": 50,
      "metadata": {
        "colab": {
          "base_uri": "https://localhost:8080/"
        },
        "id": "GG8ax-qZ2drA",
        "outputId": "c132f732-7062-4d1f-bd7b-69bdede880b1"
      },
      "outputs": [
        {
          "name": "stdout",
          "output_type": "stream",
          "text": [
            "The accuracy is:  0.6179093666530853\n",
            "\n",
            "              precision    recall  f1-score   support\n",
            "\n",
            "          -1       0.45      0.39      0.42      9908\n",
            "           0       0.32      0.07      0.11      8074\n",
            "           1       0.67      0.87      0.76     26196\n",
            "\n",
            "    accuracy                           0.62     44178\n",
            "   macro avg       0.48      0.44      0.43     44178\n",
            "weighted avg       0.56      0.62      0.57     44178\n",
            "\n"
          ]
        }
      ],
      "source": [
        "return_clf_score(yClf_test, predKNNClf2)"
      ]
    },
    {
      "cell_type": "markdown",
      "metadata": {
        "id": "k9Q_OHDVzEIX"
      },
      "source": [
        "## XGBoost"
      ]
    },
    {
      "cell_type": "code",
      "execution_count": 51,
      "metadata": {
        "id": "f9pRgCYJzFTs"
      },
      "outputs": [],
      "source": [
        "\"\"\"xgbParam2 = {\n",
        "        'min_child_weight': [1, 5],\n",
        "        'subsample': [0.6, 0.8, 1.0],\n",
        "        'n_estimators': [100, 500, 1000],\n",
        "        'max_depth': [3, 4, 5, 6, 7, 8],\n",
        "        'eta': [0.1, 0.2, 0.3]\n",
        "        }\n",
        "\n",
        "xgbClf2 = XGBClassifier()\n",
        "\n",
        "gridsXGB2 = RandomizedSearchCV(xgbClf2, xgbParam2, cv = 4, scoring = 'accuracy', verbose = 2, random_state=42)\n",
        "gridsXGB2.fit(xClf_train_prepared, yClf_train)\n",
        "gridsXGB2.best_params_\"\"\";"
      ]
    },
    {
      "cell_type": "code",
      "execution_count": 52,
      "metadata": {
        "id": "fDc2rkdpYy4s"
      },
      "outputs": [],
      "source": [
        "trainPara = {\n",
        "        'n_jobs': -1, \n",
        "        'min_child_weight': 1,\n",
        "        'subsample': 1,\n",
        "        'n_estimators': 1000,\n",
        "        'max_depth': 7,\n",
        "        'eta': 0.2\n",
        "        }\n",
        "\n",
        "xgbClf2 = XGBClassifier(min_child_weight = trainPara['min_child_weight'], n_jobs = -1, subsample= trainPara['subsample'],\n",
        "                       n_estimators = trainPara['n_estimators'], max_depth = trainPara['max_depth'], eta = trainPara['eta'])\n",
        "xgbClf2.fit(xClf_train_prepared, yClf_train)\n",
        "predXGBClf2 = xgbClf2.predict(xClf_test_prepared)"
      ]
    },
    {
      "cell_type": "code",
      "execution_count": 53,
      "metadata": {
        "colab": {
          "base_uri": "https://localhost:8080/"
        },
        "id": "eZQZoY87ZNeg",
        "outputId": "06b7397c-1f03-4526-8d28-fa71b7ca042b"
      },
      "outputs": [
        {
          "name": "stdout",
          "output_type": "stream",
          "text": [
            "The accuracy is:  0.6201050296527684\n",
            "\n",
            "              precision    recall  f1-score   support\n",
            "\n",
            "          -1       0.49      0.29      0.37      9908\n",
            "           0       0.33      0.03      0.06      8074\n",
            "           1       0.65      0.92      0.76     26196\n",
            "\n",
            "    accuracy                           0.62     44178\n",
            "   macro avg       0.49      0.42      0.40     44178\n",
            "weighted avg       0.55      0.62      0.55     44178\n",
            "\n"
          ]
        }
      ],
      "source": [
        "return_clf_score(yClf_test, predXGBClf2)"
      ]
    }
  ],
  "metadata": {
    "colab": {
      "collapsed_sections": [
        "HQgJ-04NoKmC",
        "BFWdjyDLkOs2",
        "_RSDUi4mhLXd",
        "1N6SoJWuhOmc",
        "oIgNP30yhRck",
        "BJ97--WuhjiN",
        "MeGrv19e6qjX",
        "RtMkY2gY6yrI",
        "AZETgqsvWtmb",
        "n0H3h2k3jls-"
      ],
      "machine_shape": "hm",
      "name": "Assignment2.ipynb",
      "provenance": []
    },
    "kernelspec": {
      "display_name": "Python 3",
      "name": "python3"
    },
    "language_info": {
      "name": "python"
    }
  },
  "nbformat": 4,
  "nbformat_minor": 0
}
